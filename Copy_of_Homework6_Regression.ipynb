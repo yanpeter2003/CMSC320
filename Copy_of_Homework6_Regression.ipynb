{
  "nbformat": 4,
  "nbformat_minor": 0,
  "metadata": {
    "colab": {
      "provenance": []
    },
    "kernelspec": {
      "name": "python3",
      "display_name": "Python 3"
    },
    "language_info": {
      "name": "python"
    }
  },
  "cells": [
    {
      "cell_type": "markdown",
      "source": [
        "# Homework 6\n",
        "\n",
        "For this homework, you'll be looking at the survey data gathered from the last exam. For each cell, answer the question either with code or text, as specified.\n",
        "\n",
        "The data is here: https://drive.google.com/file/d/1-0d9sGptmBTbzf4jRGYDE8pWwxz0d-0z/view?usp=sharing\n",
        "\n",
        "Copy this notebook, fill it out, and then submit it.\n"
      ],
      "metadata": {
        "id": "icX_TgUyDu6d"
      }
    },
    {
      "cell_type": "markdown",
      "source": [
        "# Question 1\n",
        "\n",
        "Write code to load in the data in a dataframe."
      ],
      "metadata": {
        "id": "6Tf-_X-rEAuk"
      }
    },
    {
      "cell_type": "code",
      "source": [
        "import pandas as pd\n",
        "import numpy as np\n",
        "import scipy as sp\n",
        "df = pd.read_csv(\"/content/MidtermSurvey_Processed.csv\")"
      ],
      "metadata": {
        "id": "obj5fo5cEGna"
      },
      "execution_count": 27,
      "outputs": []
    },
    {
      "cell_type": "markdown",
      "source": [
        "# Question 2\n",
        "\n",
        "Create a column that measures, in minutes, how long each student took for their exam. Print the column at the end."
      ],
      "metadata": {
        "id": "mDHcdeVREHE0"
      }
    },
    {
      "cell_type": "code",
      "source": [
        "# Set the start time of the exam\n",
        "start_time = pd.to_datetime('3:30:00 PM', format='%I:%M:%S %p')\n",
        "\n",
        "# Calculate the duration in minutes by converting 'Time' column to datetime format\n",
        "df['Time Taken'] = (pd.to_datetime(df['Time'], format='%I:%M:%S %p', errors='coerce') - start_time).dt.total_seconds() / 60\n",
        "print(df)"
      ],
      "metadata": {
        "id": "87nz1WAjENxT",
        "colab": {
          "base_uri": "https://localhost:8080/"
        },
        "outputId": "51b40e80-e569-425d-e5f2-b28edf832589"
      },
      "execution_count": 28,
      "outputs": [
        {
          "output_type": "stream",
          "name": "stdout",
          "text": [
            "     Unnamed: 0        Time  Hours_Studied Friend   Fair Lectures Assignments  \\\n",
            "0             0  4:45:00 PM            4.0     No    Yes      Yes         Yes   \n",
            "1             1  4:45:14 PM            4.0    Yes  Kinda    Kinda       Kinda   \n",
            "2             2  4:40:00 PM            4.0    Yes    Yes       No         Yes   \n",
            "3             3  4:45:00 PM            7.0     No    Yes       No          No   \n",
            "4             4  4:45:55 PM            2.0     No    Yes      Yes         Yes   \n",
            "..          ...         ...            ...    ...    ...      ...         ...   \n",
            "396         399         NaN            NaN    NaN    NaN      NaN         NaN   \n",
            "397         400         NaN            NaN    NaN    NaN      NaN         NaN   \n",
            "398         401         NaN            NaN    NaN    NaN      NaN         NaN   \n",
            "399         402         NaN            NaN    NaN    NaN      NaN         NaN   \n",
            "400         403         NaN            NaN    NaN    NaN      NaN         NaN   \n",
            "\n",
            "     Sleep   XP Class      Grade    Mystery  Time Taken  \n",
            "0      7.0   No   Yes  66.509746  30.644589   75.000000  \n",
            "1      3.0   No   Yes  73.447272  37.825654   75.233333  \n",
            "2      8.0   No   Yes  61.562473  32.678616   70.000000  \n",
            "3      8.0   No   Yes  53.426324  30.805367   75.000000  \n",
            "4      6.0  Yes   Yes  79.710070  40.256162   75.916667  \n",
            "..     ...  ...   ...        ...        ...         ...  \n",
            "396    NaN  NaN   NaN        NaN        NaN         NaN  \n",
            "397    NaN  NaN   NaN        NaN        NaN         NaN  \n",
            "398    NaN  NaN   NaN        NaN        NaN         NaN  \n",
            "399    NaN  NaN   NaN        NaN        NaN         NaN  \n",
            "400    NaN  NaN   NaN        NaN        NaN         NaN  \n",
            "\n",
            "[401 rows x 13 columns]\n"
          ]
        }
      ]
    },
    {
      "cell_type": "markdown",
      "source": [
        "# Question 3\n",
        "\n",
        "Create a graph, comparing the distributions of the grades of students who thought the exam was fair, kind of fair, or not fair. (Note: If you create a graph that does not do a good job visuaizing this, you will loose points. For example, if you make a pie chart somehow, the graders will have no mercy)."
      ],
      "metadata": {
        "id": "vn2AxtVKEOFx"
      }
    },
    {
      "cell_type": "code",
      "source": [
        "import matplotlib.pyplot as plt\n",
        "fair_grades = df[df['Fair'] == 'Yes']['Grade']\n",
        "kinda_fair_grades = df[df['Fair'] == 'Kinda']['Grade']\n",
        "not_fair_grades = df[df['Fair'] == 'No']['Grade']\n",
        "\n",
        "# Create a histogram comparing the distributions of grades\n",
        "plt.figure(figsize=(8, 6))\n",
        "plt.hist(fair_grades, label='Fair')\n",
        "plt.hist(kinda_fair_grades, label='Kinda Fair')\n",
        "plt.hist(not_fair_grades, label='Not Fair')\n",
        "\n",
        "plt.xlabel('Grades')\n",
        "plt.ylabel('Frequency')\n",
        "plt.title('Distribution of Grades based on Exam Fairness Perception')\n",
        "plt.legend()\n",
        "plt.grid(True)\n",
        "plt.show()"
      ],
      "metadata": {
        "id": "nr3V-hKVEjSg",
        "colab": {
          "base_uri": "https://localhost:8080/",
          "height": 564
        },
        "outputId": "7ae7eb1a-7009-4212-924c-bbad72de52e2"
      },
      "execution_count": 29,
      "outputs": [
        {
          "output_type": "display_data",
          "data": {
            "text/plain": [
              "<Figure size 800x600 with 1 Axes>"
            ],
            "image/png": "[encoded data removed]"
          },
          "metadata": {}
        }
      ]
    },
    {
      "cell_type": "markdown",
      "source": [
        "# Question 4\n",
        "\n",
        "Do a hypothesis test to see if the distributions of students who thought the exam was fair, kinda fair, or unfair have a stastically significant difference in mean. Print your p-value."
      ],
      "metadata": {
        "id": "25iHak3TEjtq"
      }
    },
    {
      "cell_type": "code",
      "source": [
        "# Since we are comparing more than two sets of categorical data, use one-way Anova test\n",
        "from scipy.stats import f_oneway\n",
        "# Null hypothesis: There is no difference between any of the groups who thought the exam was fair, kinda fair, or unfair.\n",
        "# Alternate hypothesis: There is a difference between at least one of the groups who thought the exam was fair, kinda fair, or unfair.\n",
        "f_statistic, p_value = f_oneway(fair_grades, kinda_fair_grades, not_fair_grades)\n",
        "print(p_value)\n",
        "# Since p-value is > 0.05, we fail to reject the null hypothesis."
      ],
      "metadata": {
        "id": "os32VHpnE4ol",
        "colab": {
          "base_uri": "https://localhost:8080/"
        },
        "outputId": "3e34c0e3-a6dc-4150-c595-e7a7f2be9e02"
      },
      "execution_count": 30,
      "outputs": [
        {
          "output_type": "stream",
          "name": "stdout",
          "text": [
            "0.8389966340907092\n"
          ]
        }
      ]
    },
    {
      "cell_type": "markdown",
      "source": [
        "# Question 5\n",
        "\n",
        "Does studying more improve your score? Find out, and summarize the results below in text format. If it does not, speculate as to why."
      ],
      "metadata": {
        "id": "0ueYAh3pFdY_"
      }
    },
    {
      "cell_type": "code",
      "source": [
        "df.plot(kind = 'scatter', x = 'Hours_Studied', y = 'Grade')\n",
        "plt.show()\n",
        "correlation = df['Grade'].corr(df['Hours_Studied'])\n",
        "print(correlation)"
      ],
      "metadata": {
        "id": "sgZV3ogeFkDJ",
        "colab": {
          "base_uri": "https://localhost:8080/",
          "height": 467
        },
        "outputId": "e03625d7-7db5-4449-fee6-57c1f2b2f085"
      },
      "execution_count": 31,
      "outputs": [
        {
          "output_type": "display_data",
          "data": {
            "text/plain": [
              "<Figure size 640x480 with 1 Axes>"
            ],
            "image/png": "[encoded data removed]"
          },
          "metadata": {}
        },
        {
          "output_type": "stream",
          "name": "stdout",
          "text": [
            "0.06286069182995391\n"
          ]
        }
      ]
    },
    {
      "cell_type": "markdown",
      "source": [
        "The scatter plot shows that studying more does not necessarily improve your exam score. Many of the students studied between 0-20 hours and had highly variable exam scores, and the few who studied more than 20 hours did not have higher scores than many who studied for less. This is supported by the correlation coefficient between the two values being closer to 0 than 1, suggesting weak correlation."
      ],
      "metadata": {
        "id": "DLcor2xRFiVq"
      }
    },
    {
      "cell_type": "markdown",
      "source": [
        "# Question 6\n",
        "\n",
        "Make another graph based on a question you think might be interesting."
      ],
      "metadata": {
        "id": "O0A92bjKE5Fa"
      }
    },
    {
      "cell_type": "markdown",
      "source": [
        "Does the number of hours a student sleeps impact their exam performance?"
      ],
      "metadata": {
        "id": "dUwwEviJVE67"
      }
    },
    {
      "cell_type": "code",
      "source": [
        "df.plot(kind = 'scatter', x = 'Sleep', y = 'Grade')\n",
        "plt.show()\n",
        "correlation = df['Grade'].corr(df['Sleep'])\n",
        "print(correlation)"
      ],
      "metadata": {
        "id": "lYIdPf5xFBbZ",
        "colab": {
          "base_uri": "https://localhost:8080/",
          "height": 466
        },
        "outputId": "e6c98659-7cfd-42f0-954e-426f5ed0a934"
      },
      "execution_count": 32,
      "outputs": [
        {
          "output_type": "display_data",
          "data": {
            "text/plain": [
              "<Figure size 640x480 with 1 Axes>"
            ],
            "image/png": "[encoded data removed]"
          },
          "metadata": {}
        },
        {
          "output_type": "stream",
          "name": "stdout",
          "text": [
            "0.17649048543469256\n"
          ]
        }
      ]
    },
    {
      "cell_type": "markdown",
      "source": [
        "The scatter plot shows that getting more rest does not necessarily improve your exam score. Many of the students slept between 4-8 hours and had highly variable exam scores, and the few who slept more than 8 hours or less than 4 hours did not have higher scores than many who slept a healthy amount. This is supported by the correlation coefficient between the two values being closer to 0 than 1, suggesting weak correlation."
      ],
      "metadata": {
        "id": "sL3cH1ZLVvRk"
      }
    },
    {
      "cell_type": "markdown",
      "source": [
        "# Question 7\n",
        "\n",
        "Do a hypothesis test on something you think is interesting."
      ],
      "metadata": {
        "id": "m5VHxwI5Jl8i"
      }
    },
    {
      "cell_type": "markdown",
      "source": [
        "Are students who hastily finish their exams (finish their exams in less time) more likely to have lower grades?"
      ],
      "metadata": {
        "id": "z8R9UgSlYdxx"
      }
    },
    {
      "cell_type": "code",
      "source": [
        "from scipy.stats import ttest_ind\n",
        "# Null hypothesis: There is no connection between exam finish time and exam grade.\n",
        "# Alternate hypothesis: There exists a connection between exam finish time and exam grade.\n",
        "t_statistic, pvalue = ttest_ind(df['Grade'].dropna(), df['Time Taken'].dropna())\n",
        "if p_value <= 0.05:\n",
        "  print(\"Reject null hypothesis.\")\n",
        "else:\n",
        "  print(\"Fail to reject null hypothesis.\")"
      ],
      "metadata": {
        "id": "yOh7gO2FJpCB",
        "colab": {
          "base_uri": "https://localhost:8080/"
        },
        "outputId": "4b70d8af-12d0-4202-ee3a-008b961fc36c"
      },
      "execution_count": 33,
      "outputs": [
        {
          "output_type": "stream",
          "name": "stdout",
          "text": [
            "Fail to reject null hypothesis.\n"
          ]
        }
      ]
    },
    {
      "cell_type": "markdown",
      "source": [
        "# Question 8\n",
        "\n",
        "Write code that trains a regression algorithm over the data, predicting grade. You may not use the \"mystery\" column, but you may use all other columns. You must get an R^2 value > .09.\n",
        "\n",
        "(Note: This is going to be involved! You'll have to pick a regression algorithm and possibly do some preprocessing. Use what you learned in homework 5 to train it. You don't need a test set, since it's regression!)"
      ],
      "metadata": {
        "id": "XPKkUx1UFCFS"
      }
    },
    {
      "cell_type": "code",
      "source": [
        "from sklearn.linear_model import LinearRegression\n",
        "from sklearn.metrics import r2_score\n",
        "\n",
        "# Drop all rows with missing data\n",
        "df.dropna(inplace=True)\n",
        "\n",
        "# One-hot encoding for categorical columns\n",
        "cat_cols = ['Time', 'Friend', 'Fair', 'Lectures', 'Assignments', 'XP', 'Class']\n",
        "df_encoded = pd.get_dummies(df, columns = cat_cols)\n",
        "\n",
        "# Split data into features and target variable. Also drop mystery column.\n",
        "X = df_encoded.drop(['Grade', 'Mystery'], axis=1)\n",
        "y = df_encoded['Grade']\n",
        "\n",
        "# Train the model\n",
        "reg = LinearRegression()\n",
        "reg.fit(X, y)\n",
        "\n",
        "# Predict on the test set\n",
        "predict = reg.predict(X)\n",
        "\n",
        "# Calculate R^2 as a metric for the model's performance\n",
        "r2 = r2_score(y, predict)\n",
        "print(r2)"
      ],
      "metadata": {
        "id": "hzQ3iPZyFww8",
        "colab": {
          "base_uri": "https://localhost:8080/"
        },
        "outputId": "315b467d-8a24-44eb-c0b4-e19dad4aa08f"
      },
      "execution_count": 51,
      "outputs": [
        {
          "output_type": "stream",
          "name": "stdout",
          "text": [
            "0.5589459396104475\n"
          ]
        }
      ]
    },
    {
      "cell_type": "markdown",
      "source": [
        "# Question 9\n",
        "\n",
        "Is your model any good? What does its performance tell you about the input variables' relationship to your grade?"
      ],
      "metadata": {
        "id": "Ax4ViMC1FxCY"
      }
    },
    {
      "cell_type": "markdown",
      "source": [
        "The model is ok considering the R^2 score is around 0.5, meaning that the line of best fit somewhat fits well with the data. This performance tells me that the input variables' relationship to a student's grade is possibly positively correlated."
      ],
      "metadata": {
        "id": "2_AwKBkJF54e"
      }
    },
    {
      "cell_type": "markdown",
      "source": [
        "# Question 10\n",
        "\n",
        "Execute the same code with the addition of the mystery column. You must get an R^2 higher than .7. Print your R^2 value."
      ],
      "metadata": {
        "id": "grijV8YAF7Dz"
      }
    },
    {
      "cell_type": "code",
      "source": [
        "X['Mystery'] = df['Mystery']\n",
        "# Train the model\n",
        "reg = LinearRegression()\n",
        "reg.fit(X, y)\n",
        "\n",
        "# Predict on the test set\n",
        "predict = reg.predict(X)\n",
        "\n",
        "# Calculate R^2 as a metric for the model's performance\n",
        "r2 = r2_score(y, predict)\n",
        "print(r2)"
      ],
      "metadata": {
        "id": "QGDonMG6GEgU",
        "colab": {
          "base_uri": "https://localhost:8080/"
        },
        "outputId": "824968d4-e376-4ca4-824d-b4d6f2682785"
      },
      "execution_count": 54,
      "outputs": [
        {
          "output_type": "stream",
          "name": "stdout",
          "text": [
            "0.9434727999572915\n"
          ]
        }
      ]
    },
    {
      "cell_type": "markdown",
      "source": [
        "What is the mystery column, and why did it boost your model's accuracy so much?"
      ],
      "metadata": {
        "id": "zzHdAhCiGEv7"
      }
    },
    {
      "cell_type": "markdown",
      "source": [
        "The mystery column's data must have a strong correlation with the Grade variable to improve the accuracy of the model this much. Perhaps the data in the mystery column represents a student's assignment grades. Doing well on assignments could correlate to doing well on the exam."
      ],
      "metadata": {
        "id": "Qkm8QP5NQx_5"
      }
    }
  ]
}